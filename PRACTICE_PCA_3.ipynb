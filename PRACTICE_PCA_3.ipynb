{
 "cells": [
  {
   "cell_type": "markdown",
   "metadata": {},
   "source": [
    "# Aplicación de PCA\n",
    "## By: Luis Alberto Chavarría Zamora\n",
    "\n",
    "### Dataset: https://archive.ics.uci.edu/ml/machine-learning-databases/car/car.data\n",
    "\n",
    "Se usa un dataset en el cual se intenta describir un auto como malo, bueno, muy bueno, etc a partir de una serie de características o features, se va a utilizar PCA para reducir la dimensionalidad del problema. Este problema es interesante pues se puede ver como trabajar con información categórica y como se logra realizar el análisis de esta información."
   ]
  },
  {
   "cell_type": "code",
   "execution_count": 7,
   "metadata": {},
   "outputs": [
    {
     "name": "stdout",
     "output_type": "stream",
     "text": [
      "Después de la transformación a valores cuantitativos hay  21  atributos\n"
     ]
    },
    {
     "data": {
      "text/plain": [
       "Text(0.5,1,'Ratio of PCA components')"
      ]
     },
     "execution_count": 7,
     "metadata": {},
     "output_type": "execute_result"
    },
    {
     "data": {
      "image/png": "[encoded data removed]",
      "text/plain": [
       "<Figure size 432x288 with 1 Axes>"
      ]
     },
     "metadata": {},
     "output_type": "display_data"
    }
   ],
   "source": [
    "import pandas as pd\n",
    "import matplotlib.pyplot as plt\n",
    "from sklearn.decomposition import PCA\n",
    "from sklearn.preprocessing import LabelEncoder\n",
    "from sklearn.preprocessing import OneHotEncoder\n",
    "\n",
    "url = \"https://archive.ics.uci.edu/ml/machine-learning-databases/car/car.data\"\n",
    "# Se importa el dataset por medio de pandas para manejo de estructura de datos\n",
    "df = pd.read_csv(url, names=['buying','maint','doors','persons','lug_boot','safety','target'])\n",
    "\n",
    "from sklearn.preprocessing import StandardScaler\n",
    "features = ['buying','maint','doors','persons','lug_boot','safety']\n",
    "# Separating out the features\n",
    "x = df.loc[:, features].values\n",
    "# Separating out the target\n",
    "y = df.loc[:,['target']].values\n",
    "\n",
    "#Etiqueta los atributos entre 0 y los n-1, donde n es el número de variantes\n",
    "dist_label = LabelEncoder()\n",
    "\n",
    "#Transforma la matriz de entrada x en valores cuantitativos, usando el etiquetador de la línea anterior\n",
    "for i in range(0,x.shape[1]):\n",
    "\tx[:,i] = dist_label.fit_transform(x[:,i])\n",
    "\n",
    "#El OneHotEncoder convierte información categórica a estimadores\n",
    "ohe = OneHotEncoder(categorical_features='all')\n",
    "ohe.fit_transform(x)\n",
    "x=ohe.transform(x).toarray()\n",
    "#Estandariza la información\n",
    "x = StandardScaler().fit_transform(x)\n",
    "\n",
    "#Obtiene el número de atributos\n",
    "n_atributes = x.shape[1]\n",
    "print(\"Después de la transformación a valores cuantitativos hay \",n_atributes,\" atributos\")\n",
    "\n",
    "#Aplica PCA\n",
    "pca = PCA(n_components=n_atributes)\n",
    "principalComponents = pca.fit_transform(x)\n",
    "\n",
    "#Obtiene un listado de todas las componentes del PCA, en este caso son 21\n",
    "componentes = range(principalComponents.shape[1])\n",
    "\n",
    "principalDf = pd.DataFrame(data = principalComponents, columns = componentes)\n",
    "plt.figure(1)\n",
    "x = StandardScaler().fit_transform(x)\n",
    "#Grafica las componentes de PCA según su porcentaje\n",
    "plt.bar(range(n_atributes),pca.explained_variance_ratio_)\n",
    "plt.xlabel('PCA Components')\n",
    "plt.ylabel('Percentage')\n",
    "plt.title('Ratio of PCA components')"
   ]
  },
  {
   "cell_type": "markdown",
   "metadata": {},
   "source": [
    "Se puede ver como originalmente se cuenta con 21 atributos se logra reducir los datos a 14 componentes, reduciendo la dimensionalidad del problema y facilitando la tarea de etapas posteriores"
   ]
  }
 ],
 "metadata": {
  "kernelspec": {
   "display_name": "Python 3",
   "language": "python",
   "name": "python3"
  },
  "language_info": {
   "codemirror_mode": {
    "name": "ipython",
    "version": 3
   },
   "file_extension": ".py",
   "mimetype": "text/x-python",
   "name": "python",
   "nbconvert_exporter": "python",
   "pygments_lexer": "ipython3",
   "version": "3.6.5"
  }
 },
 "nbformat": 4,
 "nbformat_minor": 2
}
